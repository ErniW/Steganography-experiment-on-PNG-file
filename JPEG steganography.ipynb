{
 "cells": [
  {
   "cell_type": "markdown",
   "metadata": {},
   "source": [
    "### Steganography on JPEG file"
   ]
  },
  {
   "cell_type": "code",
   "execution_count": 29,
   "metadata": {},
   "outputs": [],
   "source": [
    "from PIL import Image\n",
    "from bitarray import bitarray\n",
    "import numpy as np"
   ]
  },
  {
   "cell_type": "code",
   "execution_count": 109,
   "metadata": {},
   "outputs": [],
   "source": [
    "MESSAGE = \"AATest\"\n",
    "\n",
    "def encode_message(msg):\n",
    "\n",
    "    msg_bits = []\n",
    "\n",
    "    msg_len = len(msg)\n",
    "    msg_len_bytes = format(msg_len, '16b')\n",
    "\n",
    "    msg_ascii = [ord(char) for char in msg]\n",
    "    msg_bytes = [format(char, '08b') for char in msg_ascii]\n",
    "\n",
    "    for bit in msg_len_bytes:\n",
    "        if bit == ' ':\n",
    "            bit = 0\n",
    "            \n",
    "        msg_bits.append(int(bit))\n",
    "\n",
    "    for char in msg_bytes:\n",
    "        for bit in char:\n",
    "            msg_bits.append(int(bit))\n",
    "\n",
    "    return msg_bits\n",
    "\n",
    "encoded_message_bits = encode_message(MESSAGE)"
   ]
  },
  {
   "cell_type": "code",
   "execution_count": 197,
   "metadata": {},
   "outputs": [
    {
     "name": "stdout",
     "output_type": "stream",
     "text": [
      "77 77 False\n",
      "80 81 False\n",
      "78 79 False\n",
      "79 79 False\n",
      "84 85 False\n",
      "84 85 False\n",
      "78 79 False\n",
      "75 75 False\n",
      "78 79 False\n",
      "82 83 False\n",
      "80 81 False\n",
      "82 83 False\n",
      "82 83 False\n",
      "81 82 True\n",
      "83 84 True\n",
      "79 79 False\n"
     ]
    }
   ],
   "source": [
    "IMG_DIR = \"sample_image.jpg\"\n",
    "\n",
    "def is_even(val):\n",
    "    return val % 2 == 0\n",
    "\n",
    "def set_bit(value, bit):\n",
    "    \n",
    "    if is_even(value):\n",
    "        if bit == 0:\n",
    "            value += 1\n",
    "    else:\n",
    "        if bit == 1:\n",
    "            value += 1\n",
    "\n",
    "    return value\n",
    "    # return value\n",
    "\n",
    "def encode_message_into_image(img, msg_bits):\n",
    "\n",
    "    img = np.array(img)\n",
    "    img_shape = img.shape\n",
    "    img_flat = img.flatten()\n",
    "\n",
    "    for i, bit in enumerate(msg_bits):\n",
    "        \n",
    "        val_index = i * 3\n",
    "        value = img_flat[val_index]\n",
    "        img_flat[val_index] = set_bit(value, bit)\n",
    "\n",
    "    encoded_image = img_flat.reshape(img_shape)\n",
    "\n",
    "    return Image.fromarray(encoded_image)\n",
    "        \n",
    "\n",
    "\n",
    "img = Image.open(IMG_DIR)\n",
    "\n",
    "encoded_image = encode_message_into_image(img, encoded_message_bits)\n",
    "\n",
    "\n",
    "# img_a = np.array(img).flatten()\n",
    "# img_b = np.array(encoded_image).flatten()\n",
    "\n",
    "# for i in range(16):\n",
    "#     b = img_b[i*3] % 2 == 0\n",
    "#     print(img_a[i*3], img_b[i*3], b)\n",
    "\n"
   ]
  },
  {
   "cell_type": "code",
   "execution_count": 199,
   "metadata": {},
   "outputs": [
    {
     "name": "stdout",
     "output_type": "stream",
     "text": [
      "False\n",
      "False\n",
      "False\n",
      "False\n",
      "False\n",
      "False\n",
      "False\n",
      "False\n",
      "False\n",
      "False\n",
      "False\n",
      "False\n",
      "False\n",
      "True\n",
      "True\n",
      "False\n",
      "[]\n"
     ]
    },
    {
     "data": {
      "text/plain": [
       "''"
      ]
     },
     "execution_count": 199,
     "metadata": {},
     "output_type": "execute_result"
    }
   ],
   "source": [
    "def decode_message_from_image(img):\n",
    "    msg = \"\"\n",
    "\n",
    "    img = np.array(img)\n",
    "    img_flat = img.flatten()\n",
    "\n",
    "    len_bits = []\n",
    "\n",
    "    for i in range(16):\n",
    "        print(is_even(img_flat[i * 3]))\n",
    "        # len_bits.append(is_even(img_flat[i * 3]))\n",
    "\n",
    "    print(len_bits)\n",
    "    # print(msg)\n",
    "\n",
    "    return msg\n",
    "\n",
    "decode_message_from_image(encoded_image)"
   ]
  },
  {
   "cell_type": "code",
   "execution_count": 63,
   "metadata": {},
   "outputs": [
    {
     "name": "stdout",
     "output_type": "stream",
     "text": [
      "0 False\n",
      "1 False\n",
      "2 False\n",
      "3 False\n",
      "4 False\n",
      "5 False\n",
      "6 False\n",
      "7 False\n",
      "8 False\n",
      "9 False\n",
      "10 False\n",
      "11 False\n",
      "12 False\n",
      "13 False\n",
      "14 False\n",
      "15 False\n",
      "16 False\n",
      "17 False\n",
      "18 False\n",
      "19 False\n",
      "20 False\n",
      "21 False\n",
      "22 False\n",
      "23 False\n",
      "24 False\n",
      "25 False\n",
      "26 True\n",
      "27 False\n",
      "28 False\n",
      "29 False\n",
      "30 False\n",
      "31 False\n",
      "0\n"
     ]
    }
   ],
   "source": [
    "\n"
   ]
  }
 ],
 "metadata": {
  "kernelspec": {
   "display_name": "Python 3",
   "language": "python",
   "name": "python3"
  },
  "language_info": {
   "codemirror_mode": {
    "name": "ipython",
    "version": 3
   },
   "file_extension": ".py",
   "mimetype": "text/x-python",
   "name": "python",
   "nbconvert_exporter": "python",
   "pygments_lexer": "ipython3",
   "version": "3.12.3"
  }
 },
 "nbformat": 4,
 "nbformat_minor": 2
}
