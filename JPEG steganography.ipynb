{
 "cells": [
  {
   "cell_type": "markdown",
   "metadata": {},
   "source": [
    "### Steganography on JPEG file"
   ]
  },
  {
   "cell_type": "code",
   "execution_count": 6,
   "metadata": {},
   "outputs": [],
   "source": [
    "from PIL import Image\n",
    "from bitarray import bitarray\n",
    "import numpy as np"
   ]
  },
  {
   "cell_type": "code",
   "execution_count": 7,
   "metadata": {},
   "outputs": [],
   "source": [
    "MESSAGE = \"AATest\"\n",
    "\n",
    "def encode_message(msg):\n",
    "\n",
    "    msg_bits = []\n",
    "\n",
    "    msg_len = len(msg)\n",
    "    msg_len_bytes = format(msg_len, '16b')\n",
    "\n",
    "    msg_ascii = [ord(char) for char in msg]\n",
    "    msg_bytes = [format(char, '08b') for char in msg_ascii]\n",
    "\n",
    "    for bit in msg_len_bytes:\n",
    "        if bit == ' ':\n",
    "            bit = 0\n",
    "            \n",
    "        msg_bits.append(int(bit))\n",
    "\n",
    "    for char in msg_bytes:\n",
    "        for bit in char:\n",
    "            msg_bits.append(int(bit))\n",
    "\n",
    "    return msg_bits\n",
    "\n",
    "encoded_message_bits = encode_message(MESSAGE)"
   ]
  },
  {
   "cell_type": "code",
   "execution_count": 53,
   "metadata": {},
   "outputs": [],
   "source": [
    "IMG_DIR = \"sample_image.jpg\"\n",
    "\n",
    "def is_even(val):\n",
    "    return 1 if val % 2 == 0 else 0\n",
    "\n",
    "def set_bit(value, bit):\n",
    "    \n",
    "    if is_even(value):\n",
    "        if bit == 0:\n",
    "            value += 1 #od razu zwracać\n",
    "    else:\n",
    "        if bit == 1:\n",
    "            value += 1\n",
    "\n",
    "    return value\n",
    "    # return value\n",
    "\n",
    "def encode_message_into_image(img, msg_bits):\n",
    "\n",
    "    img = np.array(img)\n",
    "    img_shape = img.shape\n",
    "    img_flat = img.flatten()\n",
    "\n",
    "    for i, bit in enumerate(msg_bits):\n",
    "        \n",
    "        val_index = i * 3\n",
    "        value = img_flat[val_index]\n",
    "        img_flat[val_index] = set_bit(value, bit)\n",
    "\n",
    "    encoded_image = img_flat.reshape(img_shape)\n",
    "\n",
    "    return Image.fromarray(encoded_image)\n",
    "        \n",
    "\n",
    "\n",
    "img = Image.open(IMG_DIR)\n",
    "\n",
    "encoded_image = encode_message_into_image(img, encoded_message_bits)"
   ]
  },
  {
   "cell_type": "code",
   "execution_count": 64,
   "metadata": {},
   "outputs": [
    {
     "data": {
      "text/plain": [
       "'AATest'"
      ]
     },
     "execution_count": 64,
     "metadata": {},
     "output_type": "execute_result"
    }
   ],
   "source": [
    "def decode_message_from_image(img):\n",
    "    msg = \"\"\n",
    "\n",
    "    img = np.array(img)\n",
    "    img_flat = img.flatten()\n",
    "\n",
    "    len_bits = []\n",
    "\n",
    "    for i in range(16):\n",
    "\n",
    "        len_bits.append(is_even(img_flat[i * 3]))\n",
    "\n",
    "    length = 0\n",
    "\n",
    "    for idx, bit in enumerate(reversed(len_bits)):\n",
    "        length |= bit << idx\n",
    "\n",
    "    x = 0\n",
    "\n",
    "    for char_index in range(length):\n",
    "\n",
    "        char_val = 0\n",
    "\n",
    "\n",
    "        for pixel_index in range(8):\n",
    "\n",
    "            val_index = (16 * 3) + (x * 3)\n",
    "\n",
    "            char_val |= is_even(img_flat[val_index]) << (7 - pixel_index)\n",
    "\n",
    "            x += 1\n",
    "        \n",
    "        msg += chr(char_val)\n",
    "\n",
    "    return msg\n",
    "\n",
    "decode_message_from_image(encoded_image)"
   ]
  }
 ],
 "metadata": {
  "kernelspec": {
   "display_name": "Python 3",
   "language": "python",
   "name": "python3"
  },
  "language_info": {
   "codemirror_mode": {
    "name": "ipython",
    "version": 3
   },
   "file_extension": ".py",
   "mimetype": "text/x-python",
   "name": "python",
   "nbconvert_exporter": "python",
   "pygments_lexer": "ipython3",
   "version": "3.12.3"
  }
 },
 "nbformat": 4,
 "nbformat_minor": 2
}
