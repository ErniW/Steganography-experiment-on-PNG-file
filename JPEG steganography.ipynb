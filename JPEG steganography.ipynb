{
 "cells": [
  {
   "cell_type": "markdown",
   "metadata": {},
   "source": [
    "## Steganography on JPEG file\n",
    "*Ernest Warzocha, SWPS University 2024*\n",
    "\n",
    "An experiment to encode a text message into image file. Steganography is a technique to avoid detection of encrypted data. It is much harder to detect if we don't know if there is any message at all.\n",
    "\n",
    "### **Steps to encode the message:**\n",
    "1. **Get bits of each letter** (char is exactly one byte in utf-8) and store them in a one dimensional array.\n",
    "2. Prepend a message length at the beginning so we know how many bits to count while decoding.\n",
    "3. **Image file is one dimensional R, G, B, R, G, B... pixel array. We chose to encode n * 3 value.** In this case it's red color of each pixel.\n",
    "4. **If color value is odd and message bit equals 0 - do nothing. If color bit is even, make it odd. Do the opposite when bit value is equal to 1.**\n",
    "\n",
    "**Decoding is reversed. Read the parity of pixel color sequence.** Please check a similar approach in bitmap file example. It includes AES encryption.\n",
    "\n",
    "*Technically after uploading the code it can't be called steganography anymore. Algorithm is trivial but if I would make a more sophisticated encryption... I wouldn't upload it to public.*\n",
    "\n",
    "*The image must be sent as it is in form of directly uploaded file. If you upload it through any platform, an additional compression might occur, eventually altering the pixel value. In some cases it might be considered as an additional security of message.*\n"
   ]
  },
  {
   "cell_type": "code",
   "execution_count": 95,
   "metadata": {},
   "outputs": [],
   "source": [
    "MESSAGE = \"This is a secret message\"\n",
    "IMG_DIR = \"sample_image.jpg\""
   ]
  },
  {
   "cell_type": "code",
   "execution_count": 96,
   "metadata": {},
   "outputs": [
    {
     "name": "stdout",
     "output_type": "stream",
     "text": [
      "The autoreload extension is already loaded. To reload it, use:\n",
      "  %reload_ext autoreload\n"
     ]
    }
   ],
   "source": [
    "%load_ext autoreload\n",
    "%autoreload 2\n",
    "\n",
    "from PIL import Image\n",
    "from bitarray import bitarray\n",
    "import numpy as np\n",
    "from utils import *"
   ]
  },
  {
   "cell_type": "markdown",
   "metadata": {},
   "source": [
    "### Encode the message into binary format\n",
    "\n",
    "First we have to convert our message to a list of bits. First 16 bits are message length, rest are for encoded message letters."
   ]
  },
  {
   "cell_type": "code",
   "execution_count": 97,
   "metadata": {},
   "outputs": [],
   "source": [
    "test = [0, 0, 0, 0, 0, 0, 0, 0, 0, 0, 0, 1, 1, 0, 0, 0, 0, 1, 0, 1, 0, 1, 0, 0, 0, 1, 1, 0, 1, 0, 0, 0, 0, 1, 1, 0, 1, 0, 0, 1, 0, 1, 1, 1, 0, 0, 1, 1, 0, 0, 1, 0, 0, 0, 0, 0, 0, 1, 1, 0, 1, 0, 0, 1, 0, 1, 1, 1, 0, 0, 1, 1, 0, 0, 1, 0, 0, 0, 0, 0, 0, 1, 1, 0, 0, 0, 0, 1, 0, 0, 1, 0, 0, 0, 0, 0, 0, 1, 1, 1, 0, 0, 1, 1, 0, 1, 1, 0, 0, 1, 0, 1, 0, 1, 1, 0, 0, 0, 1, 1, 0, 1, 1, 1, 0, 0, 1, 0, 0, 1, 1, 0, 0, 1, 0, 1, 0, 1, 1, 1, 0, 1, 0, 0, 0, 0, 1, 0, 0, 0, 0, 0, 0, 1, 1, 0, 1, 1, 0, 1, 0, 1, 1, 0, 0, 1, 0, 1, 0, 1, 1, 1, 0, 0, 1, 1, 0, 1, 1, 1, 0, 0, 1, 1, 0, 1, 1, 0, 0, 0, 0, 1, 0, 1, 1, 0, 0, 1, 1, 1, 0, 1, 1, 0, 0, 1, 0, 1]\n",
    "\n",
    "\n",
    "def encode_message(msg):\n",
    "    \"\"\"\n",
    "    This function does two things:\n",
    "    1. Converts length which is uint16 to array of bits.\n",
    "    2. Converts message chars to array of bits.\n",
    "\n",
    "    Returns a list where first 16 elements are message size bits,\n",
    "    rest are the message bits.\n",
    "    \"\"\"\n",
    "    encoded_msg = []\n",
    "\n",
    "    msg_len_bits = number_to_bits_array(len(msg), 16)\n",
    "    encoded_msg.extend(msg_len_bits)\n",
    "\n",
    "\n",
    "    msg_bits = bitarray(endian='big')\n",
    "    msg_bits.frombytes(msg.encode('utf-8'))\n",
    "\n",
    "    encoded_msg.extend(list(msg_bits))\n",
    "\n",
    "    return encoded_msg\n",
    "\n",
    "encoded_message_bits = encode_message(MESSAGE)\n",
    "\n",
    "assert(encoded_message_bits == test)"
   ]
  },
  {
   "cell_type": "markdown",
   "metadata": {},
   "source": [
    "### Apply message bits into pixel values\n",
    "\n",
    "**Possible changes in encoding:**\n",
    "- Different color we are encoding to.\n",
    "- Not starting from the beginning of image.\n",
    "- Encode into every fourth or tenth pixel.\n",
    "- Change endianness.\n",
    "- AES encryption.\n",
    "- Single message bit encoded into many image bits. Message \"1\" is 111 of each color in pixel etc.\n",
    "- Change the axis of applying sequence on image.\n",
    "- Use file name to store some information.\n",
    "- Encode the bits to be readable from HSB color palette.\n",
    "\n",
    "and many more...\n",
    "\n",
    "\n",
    "$$Bit \\; amount = 16 + (message\\; length * 8)$$\n",
    "\n",
    "$$Max \\; bits = width * height$$\n",
    "\n",
    "$$Max \\; bytes = Max \\; bits / 8$$\n",
    "\n",
    "$$Max \\; message \\; length = Max \\; bytes - 2$$"
   ]
  },
  {
   "cell_type": "code",
   "execution_count": 98,
   "metadata": {},
   "outputs": [],
   "source": [
    "def apply_message_into_image(img, msg_bits):\n",
    "    \"\"\"\n",
    "    Append bits onto image. \n",
    "    Bits are appended to each red value of RGB pixel starting from first pixel.\n",
    "    \"\"\"\n",
    "    img = np.array(img)\n",
    "    img_shape = img.shape\n",
    "    img_flat = img.flatten()\n",
    "\n",
    "    max_bits = img_shape[0] * img_shape[1]\n",
    "    assert(len(msg_bits) <= max_bits)\n",
    "\n",
    "    for i, bit in enumerate(msg_bits):\n",
    "        val_index = i * 3\n",
    "        value = img_flat[val_index]\n",
    "        img_flat[val_index] = set_bit(value, bit)\n",
    "\n",
    "    encoded_image = img_flat.reshape(img_shape)\n",
    "\n",
    "    return Image.fromarray(encoded_image)\n",
    "        \n",
    "\n",
    "\n",
    "img = Image.open(IMG_DIR)\n",
    "\n",
    "encoded_image = apply_message_into_image(img, encoded_message_bits)\n",
    "\n",
    "encoded_image.save(f\"encoded_{IMG_DIR}\")"
   ]
  },
  {
   "cell_type": "markdown",
   "metadata": {},
   "source": [
    "### Message decoding"
   ]
  },
  {
   "cell_type": "code",
   "execution_count": 101,
   "metadata": {},
   "outputs": [
    {
     "data": {
      "text/plain": [
       "'This is a secret message'"
      ]
     },
     "execution_count": 101,
     "metadata": {},
     "output_type": "execute_result"
    }
   ],
   "source": [
    "def decode_message_from_image(img):\n",
    "    \"\"\"\n",
    "    Decode the message by checking oddity of bits and\n",
    "    assigning them to appropriate variables starting\n",
    "    from length and then rest of encoded string.\n",
    "    \"\"\"\n",
    "    img = np.array(img)\n",
    "    img_flat = img.flatten()\n",
    "\n",
    "    length = get_message_length(img_flat)\n",
    "\n",
    "    message = get_message(img_flat, length)\n",
    "\n",
    "    return message\n",
    "\n",
    "\n",
    "image_to_decode = Image.open(f\"encoded_{IMG_DIR}\")\n",
    "\n",
    "img_a = np.array(image_to_decode)\n",
    "img_b = np.array(img)\n",
    "\n",
    "assert np.array_equal(img_a, img_b) == False, \"Images should be different\"\n",
    "\n",
    "decode_message_from_image(encoded_image)"
   ]
  }
 ],
 "metadata": {
  "kernelspec": {
   "display_name": "Python 3",
   "language": "python",
   "name": "python3"
  },
  "language_info": {
   "codemirror_mode": {
    "name": "ipython",
    "version": 3
   },
   "file_extension": ".py",
   "mimetype": "text/x-python",
   "name": "python",
   "nbconvert_exporter": "python",
   "pygments_lexer": "ipython3",
   "version": "3.12.3"
  }
 },
 "nbformat": 4,
 "nbformat_minor": 2
}
